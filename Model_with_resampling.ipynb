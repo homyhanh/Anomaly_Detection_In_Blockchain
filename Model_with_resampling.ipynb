{
  "nbformat": 4,
  "nbformat_minor": 0,
  "metadata": {
    "colab": {
      "provenance": []
    },
    "kernelspec": {
      "name": "python3",
      "display_name": "Python 3"
    },
    "language_info": {
      "name": "python"
    }
  },
  "cells": [
    {
      "cell_type": "code",
      "source": [
        "from google.colab import drive\n",
        "drive.mount('/content/drive')"
      ],
      "metadata": {
        "colab": {
          "base_uri": "https://localhost:8080/"
        },
        "id": "7LII4BJDrrSk",
        "outputId": "d625c713-2b16-4f95-81a4-ebf2890eaf26"
      },
      "execution_count": 2,
      "outputs": [
        {
          "output_type": "stream",
          "name": "stdout",
          "text": [
            "Drive already mounted at /content/drive; to attempt to forcibly remount, call drive.mount(\"/content/drive\", force_remount=True).\n"
          ]
        }
      ]
    },
    {
      "cell_type": "markdown",
      "source": [
        "# Imports"
      ],
      "metadata": {
        "id": "dO9EdMObzMS-"
      }
    },
    {
      "cell_type": "code",
      "execution_count": 36,
      "metadata": {
        "id": "Ae2V4aH0X7UY"
      },
      "outputs": [],
      "source": [
        "import numpy as np\n",
        "import pandas as pd\n",
        "import matplotlib.pyplot as plt\n",
        "import joblib\n",
        "from sklearn.metrics import confusion_matrix, accuracy_score, balanced_accuracy_score, precision_score, recall_score, f1_score\n",
        "import seaborn as sns\n",
        "from sklearn.tree import DecisionTreeClassifier\n",
        "from sklearn.linear_model import SGDClassifier\n",
        "from sklearn.neural_network import MLPClassifier\n",
        "from sklearn.linear_model import LogisticRegression\n",
        "import time\n",
        "from imblearn.under_sampling import NearMiss\n",
        "from imblearn.over_sampling import SMOTE\n",
        "from collections import Counter"
      ]
    },
    {
      "cell_type": "markdown",
      "source": [
        "# Exploratory Data Analysis (EDA)"
      ],
      "metadata": {
        "id": "Ug0ltCQeEcB3"
      }
    },
    {
      "cell_type": "code",
      "source": [
        "X_train = pd.read_csv('/content/drive/MyDrive/Anomaly_Detection/Files/X_train.csv')\n",
        "y_train = pd.read_csv('/content/drive/MyDrive/Anomaly_Detection/Files/y_train.csv')\n",
        "X_test = pd.read_csv('/content/drive/MyDrive/Anomaly_Detection/Files/X_test.csv')\n",
        "y_test = pd.read_csv('/content/drive/MyDrive/Anomaly_Detection/Files/y_test.csv')"
      ],
      "metadata": {
        "id": "dKbqeW_0qi5b"
      },
      "execution_count": 4,
      "outputs": []
    },
    {
      "cell_type": "code",
      "source": [
        "y_train = y_train.values.reshape(-1, )\n",
        "y_test = y_test.values.reshape(-1, )"
      ],
      "metadata": {
        "id": "cmbEN6_kHj_X"
      },
      "execution_count": null,
      "outputs": []
    },
    {
      "cell_type": "code",
      "source": [
        "acc = []\n",
        "balanced_acc = []\n",
        "precision = []\n",
        "recall = []\n",
        "f1 = []\n",
        "time_to_train = []\n",
        "time_to_predict = []"
      ],
      "metadata": {
        "id": "HigCSxItE2dk"
      },
      "execution_count": 40,
      "outputs": []
    },
    {
      "cell_type": "markdown",
      "source": [
        "#Method"
      ],
      "metadata": {
        "id": "0J38-3ca7hUL"
      }
    },
    {
      "cell_type": "markdown",
      "source": [
        "##Resampling"
      ],
      "metadata": {
        "id": "Gbj8VlFj1s5t"
      }
    },
    {
      "cell_type": "code",
      "source": [
        "# UnderSampling\n",
        "nm = NearMiss(sampling_strategy=1e-5)\n",
        "X_res, y_res = nm.fit_resample(X_train, y_train)\n",
        "print('Resampled dataset shape %s' % Counter(y_res))"
      ],
      "metadata": {
        "colab": {
          "base_uri": "https://localhost:8080/"
        },
        "id": "aVm0alZH1uom",
        "outputId": "4178a5a9-b999-4573-a8cd-464e3e214eb2"
      },
      "execution_count": 7,
      "outputs": [
        {
          "output_type": "stream",
          "name": "stdout",
          "text": [
            "Resampled dataset shape Counter({0: 7799999, 1: 78})\n"
          ]
        }
      ]
    },
    {
      "cell_type": "code",
      "source": [
        "# OverSampling\n",
        "sm = SMOTE(random_state=42)\n",
        "X_res, y_res = sm.fit_resample(X_res, y_res)\n",
        "print('Resampled dataset shape %s' % Counter(y_res))"
      ],
      "metadata": {
        "colab": {
          "base_uri": "https://localhost:8080/"
        },
        "id": "AIMC1GKW1vPi",
        "outputId": "0676ed9a-7853-4145-f814-212bbc0a6a8a"
      },
      "execution_count": 8,
      "outputs": [
        {
          "output_type": "stream",
          "name": "stdout",
          "text": [
            "Resampled dataset shape Counter({0: 7799999, 1: 7799999})\n"
          ]
        }
      ]
    },
    {
      "cell_type": "markdown",
      "source": [
        "## Logistic Regression"
      ],
      "metadata": {
        "id": "WQZgnf28ldS3"
      }
    },
    {
      "cell_type": "code",
      "source": [
        "start_time = time.time()\n",
        "logisticregression = LogisticRegression(random_state=0)\n",
        "logisticregression.fit(X_res, y_res)\n",
        "end_time = time.time()\n",
        "elapsed_time_train = end_time - start_time\n",
        "joblib.dump(logisticregression, '/content/drive/MyDrive/Anomaly_Detection/Files/model/LogisticRegression_resampling.joblib')"
      ],
      "metadata": {
        "colab": {
          "base_uri": "https://localhost:8080/"
        },
        "outputId": "d8d6d5a3-4061-4130-f1f6-8ed2e110befe",
        "id": "eCJWgIt1ldS7"
      },
      "execution_count": 37,
      "outputs": [
        {
          "output_type": "execute_result",
          "data": {
            "text/plain": [
              "['/content/drive/MyDrive/Anomaly_Detection/Files/model/LogisticRegression_resampling.joblib']"
            ]
          },
          "metadata": {},
          "execution_count": 37
        }
      ]
    },
    {
      "cell_type": "code",
      "source": [
        "start_time = time.time()\n",
        "y_pred = logisticregression.predict(X_test)\n",
        "end_time = time.time()\n",
        "elapsed_time_predict = end_time - start_time\n",
        "cf_matrix = confusion_matrix(y_test, y_pred)\n",
        "cf_matrix"
      ],
      "metadata": {
        "colab": {
          "base_uri": "https://localhost:8080/"
        },
        "id": "1rrGIm9ImFMe",
        "outputId": "ee4bf88e-30e1-4930-fc4f-71a25f89e16a"
      },
      "execution_count": 38,
      "outputs": [
        {
          "output_type": "execute_result",
          "data": {
            "text/plain": [
              "array([[5045797, 1003800],\n",
              "       [      7,      23]])"
            ]
          },
          "metadata": {},
          "execution_count": 38
        }
      ]
    },
    {
      "cell_type": "code",
      "source": [
        "time_to_train.append (elapsed_time_train)\n",
        "time_to_predict.append (elapsed_time_predict)"
      ],
      "metadata": {
        "id": "B7_byL3MnrjT"
      },
      "execution_count": 41,
      "outputs": []
    },
    {
      "cell_type": "code",
      "source": [
        "acc.append(accuracy_score(y_test, y_pred))\n",
        "balanced_acc.append(balanced_accuracy_score(y_test, y_pred))\n",
        "precision.append(precision_score(y_test, y_pred, average='macro'))\n",
        "recall.append(recall_score(y_test, y_pred, average='macro'))\n",
        "f1.append(f1_score(y_test, y_pred, average='macro'))"
      ],
      "metadata": {
        "id": "8RL58afjnl4l"
      },
      "execution_count": 42,
      "outputs": []
    },
    {
      "cell_type": "code",
      "source": [
        "target_names = ['Non-malicious','Malicious']\n",
        "ax = sns.heatmap(cf_matrix, annot=True, cmap='Blues')\n",
        "\n",
        "ax.set_title('Confusion matrix of LR with resampling\\n\\n');\n",
        "ax.set_xlabel('\\nPredicted Values')\n",
        "ax.set_ylabel('Actual Values ');\n",
        "\n",
        "## Ticket labels - List must be in alphabetical order\n",
        "ax.xaxis.set_ticklabels(target_names)\n",
        "ax.yaxis.set_ticklabels(target_names)\n",
        "\n",
        "## Display the visualization of the Confusion Matrix.\n",
        "plt.show()"
      ],
      "metadata": {
        "colab": {
          "base_uri": "https://localhost:8080/",
          "height": 530
        },
        "id": "JmCTCfsJmJhw",
        "outputId": "fbe7e099-bf30-4289-e66c-8afb4b741bc7"
      },
      "execution_count": 39,
      "outputs": [
        {
          "output_type": "display_data",
          "data": {
            "text/plain": [
              "<Figure size 640x480 with 2 Axes>"
            ],
            "image/png": "[encoded data removed]"
          },
          "metadata": {}
        }
      ]
    },
    {
      "cell_type": "markdown",
      "source": [
        "## Decision Tree"
      ],
      "metadata": {
        "id": "2MnxfAAJo9GD"
      }
    },
    {
      "cell_type": "code",
      "source": [
        "start_time = time.time()\n",
        "decisiontree = DecisionTreeClassifier(random_state=0)\n",
        "decisiontree.fit(X_res, y_res)\n",
        "end_time = time.time()\n",
        "elapsed_time_train = end_time - start_time\n",
        "joblib.dump(decisiontree, '/content/drive/MyDrive/Anomaly_Detection/Files/model/DecisionTreeClassifier_resampling.joblib')"
      ],
      "metadata": {
        "colab": {
          "base_uri": "https://localhost:8080/"
        },
        "id": "tnMPlhBI1WFD",
        "outputId": "502979c7-465c-42f7-ca3b-dff98c116a6b"
      },
      "execution_count": 43,
      "outputs": [
        {
          "output_type": "execute_result",
          "data": {
            "text/plain": [
              "['/content/drive/MyDrive/Anomaly_Detection/Files/model/DecisionTreeClassifier_resampling.joblib']"
            ]
          },
          "metadata": {},
          "execution_count": 43
        }
      ]
    },
    {
      "cell_type": "code",
      "source": [
        "start_time = time.time()\n",
        "y_pred = decisiontree.predict(X_test)\n",
        "end_time = time.time()\n",
        "elapsed_time_predict = end_time - start_time\n",
        "cf_matrix = confusion_matrix(y_test, y_pred)\n",
        "cf_matrix"
      ],
      "metadata": {
        "id": "1RmuLsnREuVR",
        "colab": {
          "base_uri": "https://localhost:8080/"
        },
        "outputId": "9833ff4b-5e61-49db-d04f-befb5952daad"
      },
      "execution_count": 44,
      "outputs": [
        {
          "output_type": "execute_result",
          "data": {
            "text/plain": [
              "array([[2834158, 3215439],\n",
              "       [     15,      15]])"
            ]
          },
          "metadata": {},
          "execution_count": 44
        }
      ]
    },
    {
      "cell_type": "code",
      "source": [
        "time_to_train.append (elapsed_time_train)\n",
        "time_to_predict.append (elapsed_time_predict)"
      ],
      "metadata": {
        "id": "Il_5DRQBxPvk"
      },
      "execution_count": 45,
      "outputs": []
    },
    {
      "cell_type": "code",
      "source": [
        "acc.append(accuracy_score(y_test, y_pred))\n",
        "balanced_acc.append(balanced_accuracy_score(y_test, y_pred))\n",
        "precision.append(precision_score(y_test, y_pred, average='macro'))\n",
        "recall.append(recall_score(y_test, y_pred, average='macro'))\n",
        "f1.append(f1_score(y_test, y_pred, average='macro'))"
      ],
      "metadata": {
        "id": "eWVeZ6EELWc3"
      },
      "execution_count": 46,
      "outputs": []
    },
    {
      "cell_type": "code",
      "source": [
        "target_names = ['Non-malicious','Malicious']\n",
        "ax = sns.heatmap(cf_matrix, annot=True, cmap='Blues')\n",
        "\n",
        "ax.set_title('Confusion matrix of DT with resampling\\n\\n');\n",
        "ax.set_xlabel('\\nPredicted Values')\n",
        "ax.set_ylabel('Actual Values ');\n",
        "\n",
        "## Ticket labels - List must be in alphabetical order\n",
        "ax.xaxis.set_ticklabels(target_names)\n",
        "ax.yaxis.set_ticklabels(target_names)\n",
        "\n",
        "## Display the visualization of the Confusion Matrix.\n",
        "plt.show()"
      ],
      "metadata": {
        "colab": {
          "base_uri": "https://localhost:8080/",
          "height": 530
        },
        "id": "ttSLicyyFpLr",
        "outputId": "03d681f7-5645-44e0-9dea-c91ded914a2f"
      },
      "execution_count": 47,
      "outputs": [
        {
          "output_type": "display_data",
          "data": {
            "text/plain": [
              "<Figure size 640x480 with 2 Axes>"
            ],
            "image/png": "[encoded data removed]"
          },
          "metadata": {}
        }
      ]
    },
    {
      "cell_type": "markdown",
      "source": [
        "## SGD Classifier"
      ],
      "metadata": {
        "id": "bbXsVETupEnM"
      }
    },
    {
      "cell_type": "code",
      "source": [
        "start_time = time.time()\n",
        "sgd = SGDClassifier()\n",
        "sgd.fit(X_res, y_res)\n",
        "end_time = time.time()\n",
        "elapsed_time_train = end_time - start_time\n",
        "joblib.dump(sgd, '/content/drive/MyDrive/Anomaly_Detection/Files/model/SGDClassifier_resampling.joblib')"
      ],
      "metadata": {
        "colab": {
          "base_uri": "https://localhost:8080/"
        },
        "id": "fXMRdCnUKIQT",
        "outputId": "c5fd66b8-39be-45ce-ea9c-99d01f67255c"
      },
      "execution_count": 48,
      "outputs": [
        {
          "output_type": "execute_result",
          "data": {
            "text/plain": [
              "['/content/drive/MyDrive/Anomaly_Detection/Files/model/SGDClassifier_resampling.joblib']"
            ]
          },
          "metadata": {},
          "execution_count": 48
        }
      ]
    },
    {
      "cell_type": "code",
      "source": [
        "start_time = time.time()\n",
        "y_pred = sgd.predict(X_test)\n",
        "end_time = time.time()\n",
        "elapsed_time_predict = end_time - start_time\n",
        "cf_matrix = confusion_matrix(y_test, y_pred)\n",
        "cf_matrix"
      ],
      "metadata": {
        "colab": {
          "base_uri": "https://localhost:8080/"
        },
        "id": "RVtyH5PVmRK7",
        "outputId": "79174b82-debe-4032-8787-7c9137fc7ac6"
      },
      "execution_count": 49,
      "outputs": [
        {
          "output_type": "execute_result",
          "data": {
            "text/plain": [
              "array([[5224050,  825547],\n",
              "       [      9,      21]])"
            ]
          },
          "metadata": {},
          "execution_count": 49
        }
      ]
    },
    {
      "cell_type": "code",
      "source": [
        "time_to_train.append (elapsed_time_train)\n",
        "time_to_predict.append (elapsed_time_predict)"
      ],
      "metadata": {
        "id": "tYGPjRklzcEt"
      },
      "execution_count": 50,
      "outputs": []
    },
    {
      "cell_type": "code",
      "source": [
        "acc.append(accuracy_score(y_test, y_pred))\n",
        "balanced_acc.append(balanced_accuracy_score(y_test, y_pred))\n",
        "precision.append(precision_score(y_test, y_pred, average='macro'))\n",
        "recall.append(recall_score(y_test, y_pred, average='macro'))\n",
        "f1.append(f1_score(y_test, y_pred, average='macro'))"
      ],
      "metadata": {
        "id": "susvrD0gMd6s"
      },
      "execution_count": 51,
      "outputs": []
    },
    {
      "cell_type": "code",
      "source": [
        "target_names = ['Non-malicious','Malicious']\n",
        "ax = sns.heatmap(cf_matrix, annot=True, cmap='Blues')\n",
        "\n",
        "ax.set_title('Confusion matrix of SGD with resampling\\n\\n');\n",
        "ax.set_xlabel('\\nPredicted Values')\n",
        "ax.set_ylabel('Actual Values ');\n",
        "\n",
        "## Ticket labels - List must be in alphabetical order\n",
        "ax.xaxis.set_ticklabels(target_names)\n",
        "ax.yaxis.set_ticklabels(target_names)\n",
        "\n",
        "## Display the visualization of the Confusion Matrix.\n",
        "plt.show()"
      ],
      "metadata": {
        "colab": {
          "base_uri": "https://localhost:8080/",
          "height": 530
        },
        "id": "5XSHXDocp9GC",
        "outputId": "d29235e0-dae0-4b19-9285-6ccab3d5d9ae"
      },
      "execution_count": 52,
      "outputs": [
        {
          "output_type": "display_data",
          "data": {
            "text/plain": [
              "<Figure size 640x480 with 2 Axes>"
            ],
            "image/png": "[encoded data removed]"
          },
          "metadata": {}
        }
      ]
    },
    {
      "cell_type": "markdown",
      "source": [
        "## MLP Classifier"
      ],
      "metadata": {
        "id": "K1RzfdjW_Xaa"
      }
    },
    {
      "cell_type": "code",
      "source": [
        "start_time = time.time()\n",
        "mlp = MLPClassifier(random_state=1)\n",
        "mlp.fit(X_res, y_res)\n",
        "end_time = time.time()\n",
        "elapsed_time_train = end_time - start_time\n",
        "joblib.dump(mlp, '/content/drive/MyDrive/Anomaly_Detection/Files/model/MLPClassifier_resampling.joblib')"
      ],
      "metadata": {
        "colab": {
          "base_uri": "https://localhost:8080/"
        },
        "id": "xLNMd2lH_a98",
        "outputId": "cf1354d0-8716-4e63-fd7a-b14599495e58"
      },
      "execution_count": 19,
      "outputs": [
        {
          "output_type": "execute_result",
          "data": {
            "text/plain": [
              "['/content/drive/MyDrive/Anomaly_Detection/Files/model/MLPClassifier_resampling.joblib']"
            ]
          },
          "metadata": {},
          "execution_count": 19
        }
      ]
    },
    {
      "cell_type": "code",
      "source": [
        "start_time = time.time()\n",
        "y_pred = mlp.predict(X_test)\n",
        "end_time = time.time()\n",
        "elapsed_time_predict = end_time - start_time\n",
        "cf_matrix = confusion_matrix(y_test, y_pred)\n",
        "cf_matrix"
      ],
      "metadata": {
        "colab": {
          "base_uri": "https://localhost:8080/"
        },
        "id": "bEbfy-gO_bG2",
        "outputId": "2ee874ce-2cf9-458e-e4e5-03ca61d47b7c"
      },
      "execution_count": 20,
      "outputs": [
        {
          "output_type": "execute_result",
          "data": {
            "text/plain": [
              "array([[4521438, 1528159],\n",
              "       [     11,      19]])"
            ]
          },
          "metadata": {},
          "execution_count": 20
        }
      ]
    },
    {
      "cell_type": "code",
      "source": [
        "time_to_train.append (elapsed_time_train)\n",
        "time_to_predict.append (elapsed_time_predict)"
      ],
      "metadata": {
        "id": "2tiTcdfL0QH6"
      },
      "execution_count": 21,
      "outputs": []
    },
    {
      "cell_type": "code",
      "source": [
        "acc.append(accuracy_score(y_test, y_pred))\n",
        "balanced_acc.append(balanced_accuracy_score(y_test, y_pred))\n",
        "precision.append(precision_score(y_test, y_pred, average='macro'))\n",
        "recall.append(recall_score(y_test, y_pred, average='macro'))\n",
        "f1.append(f1_score(y_test, y_pred, average='macro'))"
      ],
      "metadata": {
        "id": "1-tRZDPXMh4I"
      },
      "execution_count": 22,
      "outputs": []
    },
    {
      "cell_type": "code",
      "source": [
        "target_names = ['Non-malicious','Malicious']\n",
        "ax = sns.heatmap(cf_matrix, annot=True, cmap='Blues')\n",
        "\n",
        "ax.set_title('Confusion matrix of MLP with resampling\\n\\n');\n",
        "ax.set_xlabel('\\nPredicted Values')\n",
        "ax.set_ylabel('Actual Values ');\n",
        "\n",
        "## Ticket labels - List must be in alphabetical order\n",
        "ax.xaxis.set_ticklabels(target_names)\n",
        "ax.yaxis.set_ticklabels(target_names)\n",
        "\n",
        "## Display the visualization of the Confusion Matrix.\n",
        "plt.show()"
      ],
      "metadata": {
        "colab": {
          "base_uri": "https://localhost:8080/",
          "height": 530
        },
        "id": "Hua2mPw0_bRa",
        "outputId": "130913f8-358e-4bea-e1ab-f4673fdd121e"
      },
      "execution_count": 23,
      "outputs": [
        {
          "output_type": "display_data",
          "data": {
            "text/plain": [
              "<Figure size 640x480 with 2 Axes>"
            ],
            "image/png": "[encoded data removed]"
          },
          "metadata": {}
        }
      ]
    }
  ]
}
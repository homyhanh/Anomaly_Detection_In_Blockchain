{
  "nbformat": 4,
  "nbformat_minor": 0,
  "metadata": {
    "colab": {
      "provenance": []
    },
    "kernelspec": {
      "name": "python3",
      "display_name": "Python 3"
    },
    "language_info": {
      "name": "python"
    }
  },
  "cells": [
    {
      "cell_type": "code",
      "source": [
        "from google.colab import drive\n",
        "drive.mount('/content/drive')"
      ],
      "metadata": {
        "colab": {
          "base_uri": "https://localhost:8080/"
        },
        "id": "7LII4BJDrrSk",
        "outputId": "d625c713-2b16-4f95-81a4-ebf2890eaf26"
      },
      "execution_count": 2,
      "outputs": [
        {
          "output_type": "stream",
          "name": "stdout",
          "text": [
            "Drive already mounted at /content/drive; to attempt to forcibly remount, call drive.mount(\"/content/drive\", force_remount=True).\n"
          ]
        }
      ]
    },
    {
      "cell_type": "markdown",
      "source": [
        "# Imports"
      ],
      "metadata": {
        "id": "dO9EdMObzMS-"
      }
    },
    {
      "cell_type": "code",
      "execution_count": 3,
      "metadata": {
        "id": "Ae2V4aH0X7UY"
      },
      "outputs": [],
      "source": [
        "import numpy as np\n",
        "import pandas as pd\n",
        "import matplotlib.pyplot as plt\n",
        "import joblib\n",
        "from sklearn.metrics import confusion_matrix, accuracy_score, balanced_accuracy_score, precision_score, recall_score, f1_score\n",
        "import seaborn as sns\n",
        "from sklearn.tree import DecisionTreeClassifier\n",
        "from sklearn.linear_model import SGDClassifier\n",
        "from sklearn.neural_network import MLPClassifier\n",
        "from sklearn.cluster import KMeans\n",
        "import time\n",
        "from imblearn.under_sampling import NearMiss\n",
        "from imblearn.over_sampling import SMOTE\n",
        "from collections import Counter"
      ]
    },
    {
      "cell_type": "markdown",
      "source": [
        "# Exploratory Data Analysis (EDA)"
      ],
      "metadata": {
        "id": "Ug0ltCQeEcB3"
      }
    },
    {
      "cell_type": "code",
      "source": [
        "X_train = pd.read_csv('/content/drive/MyDrive/Anomaly_Detection/Files/X_train.csv')\n",
        "y_train = pd.read_csv('/content/drive/MyDrive/Anomaly_Detection/Files/y_train.csv')\n",
        "X_test = pd.read_csv('/content/drive/MyDrive/Anomaly_Detection/Files/X_test.csv')\n",
        "y_test = pd.read_csv('/content/drive/MyDrive/Anomaly_Detection/Files/y_test.csv')"
      ],
      "metadata": {
        "id": "dKbqeW_0qi5b"
      },
      "execution_count": 4,
      "outputs": []
    },
    {
      "cell_type": "code",
      "source": [
        "y_train = y_train.values.reshape(-1, )\n",
        "y_test = y_test.values.reshape(-1, )"
      ],
      "metadata": {
        "id": "cmbEN6_kHj_X"
      },
      "execution_count": null,
      "outputs": []
    },
    {
      "cell_type": "code",
      "source": [
        "acc = []\n",
        "balanced_acc = []\n",
        "precision = []\n",
        "recall = []\n",
        "f1 = []\n",
        "time_to_train = []\n",
        "time_to_predict = []"
      ],
      "metadata": {
        "id": "HigCSxItE2dk"
      },
      "execution_count": 6,
      "outputs": []
    },
    {
      "cell_type": "markdown",
      "source": [
        "#Method"
      ],
      "metadata": {
        "id": "0J38-3ca7hUL"
      }
    },
    {
      "cell_type": "markdown",
      "source": [
        "##Resampling"
      ],
      "metadata": {
        "id": "Gbj8VlFj1s5t"
      }
    },
    {
      "cell_type": "code",
      "source": [
        "# UnderSampling\n",
        "nm = NearMiss(sampling_strategy=1e-5)\n",
        "X_res, y_res = nm.fit_resample(X_train, y_train)\n",
        "print('Resampled dataset shape %s' % Counter(y_res))"
      ],
      "metadata": {
        "colab": {
          "base_uri": "https://localhost:8080/"
        },
        "id": "aVm0alZH1uom",
        "outputId": "4178a5a9-b999-4573-a8cd-464e3e214eb2"
      },
      "execution_count": 7,
      "outputs": [
        {
          "output_type": "stream",
          "name": "stdout",
          "text": [
            "Resampled dataset shape Counter({0: 7799999, 1: 78})\n"
          ]
        }
      ]
    },
    {
      "cell_type": "code",
      "source": [
        "# OverSampling\n",
        "sm = SMOTE(random_state=42)\n",
        "X_res, y_res = sm.fit_resample(X_res, y_res)\n",
        "print('Resampled dataset shape %s' % Counter(y_res))"
      ],
      "metadata": {
        "colab": {
          "base_uri": "https://localhost:8080/"
        },
        "id": "AIMC1GKW1vPi",
        "outputId": "0676ed9a-7853-4145-f814-212bbc0a6a8a"
      },
      "execution_count": 8,
      "outputs": [
        {
          "output_type": "stream",
          "name": "stdout",
          "text": [
            "Resampled dataset shape Counter({0: 7799999, 1: 7799999})\n"
          ]
        }
      ]
    },
    {
      "cell_type": "markdown",
      "source": [
        "## Decision Tree"
      ],
      "metadata": {
        "id": "2MnxfAAJo9GD"
      }
    },
    {
      "cell_type": "code",
      "source": [
        "start_time = time.time()\n",
        "decisiontree = DecisionTreeClassifier(random_state=0,  class_weight= \"balanced\")\n",
        "decisiontree.fit(X_res, y_res)\n",
        "end_time = time.time()\n",
        "elapsed_time_train = end_time - start_time\n",
        "joblib.dump(decisiontree, '/content/drive/MyDrive/Anomaly_Detection/Files/model/DecisionTreeClassifier_resampling.joblib')"
      ],
      "metadata": {
        "colab": {
          "base_uri": "https://localhost:8080/"
        },
        "id": "tnMPlhBI1WFD",
        "outputId": "6ac21a6e-561b-4859-ab27-15103c87d4c6"
      },
      "execution_count": 9,
      "outputs": [
        {
          "output_type": "execute_result",
          "data": {
            "text/plain": [
              "['/content/drive/MyDrive/Anomaly_Detection/Files/model/DecisionTreeClassifier_resampling.joblib']"
            ]
          },
          "metadata": {},
          "execution_count": 9
        }
      ]
    },
    {
      "cell_type": "code",
      "source": [
        "start_time = time.time()\n",
        "y_pred = decisiontree.predict(X_test)\n",
        "end_time = time.time()\n",
        "elapsed_time_predict = end_time - start_time\n",
        "cf_matrix = confusion_matrix(y_test, y_pred)\n",
        "cf_matrix"
      ],
      "metadata": {
        "id": "1RmuLsnREuVR",
        "colab": {
          "base_uri": "https://localhost:8080/"
        },
        "outputId": "2a3491e9-9e00-4a89-abde-b4513c8a7527"
      },
      "execution_count": 10,
      "outputs": [
        {
          "output_type": "execute_result",
          "data": {
            "text/plain": [
              "array([[2834158, 3215439],\n",
              "       [     15,      15]])"
            ]
          },
          "metadata": {},
          "execution_count": 10
        }
      ]
    },
    {
      "cell_type": "code",
      "source": [
        "time_to_train.append (elapsed_time_train)\n",
        "time_to_predict.append (elapsed_time_predict)"
      ],
      "metadata": {
        "id": "Il_5DRQBxPvk"
      },
      "execution_count": 11,
      "outputs": []
    },
    {
      "cell_type": "code",
      "source": [
        "acc.append(accuracy_score(y_test, y_pred))\n",
        "balanced_acc.append(balanced_accuracy_score(y_test, y_pred))\n",
        "precision.append(precision_score(y_test, y_pred, average='macro'))\n",
        "recall.append(recall_score(y_test, y_pred, average='macro'))\n",
        "f1.append(f1_score(y_test, y_pred, average='macro'))"
      ],
      "metadata": {
        "id": "eWVeZ6EELWc3"
      },
      "execution_count": 12,
      "outputs": []
    },
    {
      "cell_type": "code",
      "source": [
        "target_names = ['Non-malicious','Malicious']\n",
        "ax = sns.heatmap(cf_matrix, annot=True, cmap='Blues')\n",
        "\n",
        "ax.set_title('Confusion matrix of DT with resampling\\n\\n');\n",
        "ax.set_xlabel('\\nPredicted Values')\n",
        "ax.set_ylabel('Actual Values ');\n",
        "\n",
        "## Ticket labels - List must be in alphabetical order\n",
        "ax.xaxis.set_ticklabels(target_names)\n",
        "ax.yaxis.set_ticklabels(target_names)\n",
        "\n",
        "## Display the visualization of the Confusion Matrix.\n",
        "plt.show()"
      ],
      "metadata": {
        "colab": {
          "base_uri": "https://localhost:8080/",
          "height": 530
        },
        "id": "ttSLicyyFpLr",
        "outputId": "63ea5dcf-a92e-4638-dc72-88818bb74f1f"
      },
      "execution_count": 13,
      "outputs": [
        {
          "output_type": "display_data",
          "data": {
            "text/plain": [
              "<Figure size 640x480 with 2 Axes>"
            ],
            "image/png": "[encoded data removed]"
          },
          "metadata": {}
        }
      ]
    },
    {
      "cell_type": "markdown",
      "source": [
        "## SGD Classifier"
      ],
      "metadata": {
        "id": "bbXsVETupEnM"
      }
    },
    {
      "cell_type": "code",
      "source": [
        "start_time = time.time()\n",
        "sgd = SGDClassifier(class_weight= \"balanced\")\n",
        "sgd.fit(X_res, y_res)\n",
        "end_time = time.time()\n",
        "elapsed_time_train = end_time - start_time\n",
        "joblib.dump(sgd, '/content/drive/MyDrive/Anomaly_Detection/Files/model/SGDClassifier_resampling.joblib')"
      ],
      "metadata": {
        "colab": {
          "base_uri": "https://localhost:8080/"
        },
        "id": "fXMRdCnUKIQT",
        "outputId": "40c6fb39-2c24-47aa-ea73-0b7c503667e2"
      },
      "execution_count": 14,
      "outputs": [
        {
          "output_type": "execute_result",
          "data": {
            "text/plain": [
              "['/content/drive/MyDrive/Anomaly_Detection/Files/model/SGDClassifier_resampling.joblib']"
            ]
          },
          "metadata": {},
          "execution_count": 14
        }
      ]
    },
    {
      "cell_type": "code",
      "source": [
        "start_time = time.time()\n",
        "y_pred = sgd.predict(X_test)\n",
        "end_time = time.time()\n",
        "elapsed_time_predict = end_time - start_time\n",
        "cf_matrix = confusion_matrix(y_test, y_pred)\n",
        "cf_matrix"
      ],
      "metadata": {
        "colab": {
          "base_uri": "https://localhost:8080/"
        },
        "id": "RVtyH5PVmRK7",
        "outputId": "d2a6ce30-4fcc-437e-8473-4be22e521acd"
      },
      "execution_count": 15,
      "outputs": [
        {
          "output_type": "execute_result",
          "data": {
            "text/plain": [
              "array([[5231369,  818228],\n",
              "       [      9,      21]])"
            ]
          },
          "metadata": {},
          "execution_count": 15
        }
      ]
    },
    {
      "cell_type": "code",
      "source": [
        "time_to_train.append (elapsed_time_train)\n",
        "time_to_predict.append (elapsed_time_predict)"
      ],
      "metadata": {
        "id": "tYGPjRklzcEt"
      },
      "execution_count": 16,
      "outputs": []
    },
    {
      "cell_type": "code",
      "source": [
        "acc.append(accuracy_score(y_test, y_pred))\n",
        "balanced_acc.append(balanced_accuracy_score(y_test, y_pred))\n",
        "precision.append(precision_score(y_test, y_pred, average='macro'))\n",
        "recall.append(recall_score(y_test, y_pred, average='macro'))\n",
        "f1.append(f1_score(y_test, y_pred, average='macro'))"
      ],
      "metadata": {
        "id": "susvrD0gMd6s"
      },
      "execution_count": 17,
      "outputs": []
    },
    {
      "cell_type": "code",
      "source": [
        "target_names = ['Non-malicious','Malicious']\n",
        "ax = sns.heatmap(cf_matrix, annot=True, cmap='Blues')\n",
        "\n",
        "ax.set_title('Confusion matrix of SGD with resampling\\n\\n');\n",
        "ax.set_xlabel('\\nPredicted Values')\n",
        "ax.set_ylabel('Actual Values ');\n",
        "\n",
        "## Ticket labels - List must be in alphabetical order\n",
        "ax.xaxis.set_ticklabels(target_names)\n",
        "ax.yaxis.set_ticklabels(target_names)\n",
        "\n",
        "## Display the visualization of the Confusion Matrix.\n",
        "plt.show()"
      ],
      "metadata": {
        "colab": {
          "base_uri": "https://localhost:8080/",
          "height": 530
        },
        "id": "5XSHXDocp9GC",
        "outputId": "86217752-4d7a-4362-f8f5-9a0bf6d9039f"
      },
      "execution_count": 18,
      "outputs": [
        {
          "output_type": "display_data",
          "data": {
            "text/plain": [
              "<Figure size 640x480 with 2 Axes>"
            ],
            "image/png": "[encoded data removed]"
          },
          "metadata": {}
        }
      ]
    },
    {
      "cell_type": "markdown",
      "source": [
        "## MLP Classifier"
      ],
      "metadata": {
        "id": "K1RzfdjW_Xaa"
      }
    },
    {
      "cell_type": "code",
      "source": [
        "start_time = time.time()\n",
        "mlp = MLPClassifier(random_state=1)\n",
        "mlp.fit(X_res, y_res)\n",
        "end_time = time.time()\n",
        "elapsed_time_train = end_time - start_time\n",
        "joblib.dump(mlp, '/content/drive/MyDrive/Anomaly_Detection/Files/model/MLPClassifier_resampling.joblib')"
      ],
      "metadata": {
        "colab": {
          "base_uri": "https://localhost:8080/"
        },
        "id": "xLNMd2lH_a98",
        "outputId": "cf1354d0-8716-4e63-fd7a-b14599495e58"
      },
      "execution_count": 19,
      "outputs": [
        {
          "output_type": "execute_result",
          "data": {
            "text/plain": [
              "['/content/drive/MyDrive/Anomaly_Detection/Files/model/MLPClassifier_resampling.joblib']"
            ]
          },
          "metadata": {},
          "execution_count": 19
        }
      ]
    },
    {
      "cell_type": "code",
      "source": [
        "start_time = time.time()\n",
        "y_pred = mlp.predict(X_test)\n",
        "end_time = time.time()\n",
        "elapsed_time_predict = end_time - start_time\n",
        "cf_matrix = confusion_matrix(y_test, y_pred)\n",
        "cf_matrix"
      ],
      "metadata": {
        "colab": {
          "base_uri": "https://localhost:8080/"
        },
        "id": "bEbfy-gO_bG2",
        "outputId": "2ee874ce-2cf9-458e-e4e5-03ca61d47b7c"
      },
      "execution_count": 20,
      "outputs": [
        {
          "output_type": "execute_result",
          "data": {
            "text/plain": [
              "array([[4521438, 1528159],\n",
              "       [     11,      19]])"
            ]
          },
          "metadata": {},
          "execution_count": 20
        }
      ]
    },
    {
      "cell_type": "code",
      "source": [
        "time_to_train.append (elapsed_time_train)\n",
        "time_to_predict.append (elapsed_time_predict)"
      ],
      "metadata": {
        "id": "2tiTcdfL0QH6"
      },
      "execution_count": 21,
      "outputs": []
    },
    {
      "cell_type": "code",
      "source": [
        "acc.append(accuracy_score(y_test, y_pred))\n",
        "balanced_acc.append(balanced_accuracy_score(y_test, y_pred))\n",
        "precision.append(precision_score(y_test, y_pred, average='macro'))\n",
        "recall.append(recall_score(y_test, y_pred, average='macro'))\n",
        "f1.append(f1_score(y_test, y_pred, average='macro'))"
      ],
      "metadata": {
        "id": "1-tRZDPXMh4I"
      },
      "execution_count": 22,
      "outputs": []
    },
    {
      "cell_type": "code",
      "source": [
        "target_names = ['Non-malicious','Malicious']\n",
        "ax = sns.heatmap(cf_matrix, annot=True, cmap='Blues')\n",
        "\n",
        "ax.set_title('Confusion matrix of MLP with resampling\\n\\n');\n",
        "ax.set_xlabel('\\nPredicted Values')\n",
        "ax.set_ylabel('Actual Values ');\n",
        "\n",
        "## Ticket labels - List must be in alphabetical order\n",
        "ax.xaxis.set_ticklabels(target_names)\n",
        "ax.yaxis.set_ticklabels(target_names)\n",
        "\n",
        "## Display the visualization of the Confusion Matrix.\n",
        "plt.show()"
      ],
      "metadata": {
        "colab": {
          "base_uri": "https://localhost:8080/",
          "height": 530
        },
        "id": "Hua2mPw0_bRa",
        "outputId": "130913f8-358e-4bea-e1ab-f4673fdd121e"
      },
      "execution_count": 23,
      "outputs": [
        {
          "output_type": "display_data",
          "data": {
            "text/plain": [
              "<Figure size 640x480 with 2 Axes>"
            ],
            "image/png": "[encoded data removed]"
          },
          "metadata": {}
        }
      ]
    },
    {
      "cell_type": "markdown",
      "source": [
        "## KMeans"
      ],
      "metadata": {
        "id": "67yGsXVKqKgG"
      }
    },
    {
      "cell_type": "code",
      "source": [
        "start_time = time.time()\n",
        "kmeans = KMeans(n_clusters=2, random_state=0, n_init=\"auto\")\n",
        "kmeans.fit(X_res)\n",
        "end_time = time.time()\n",
        "elapsed_time_train = end_time - start_time\n",
        "joblib.dump(kmeans, '/content/drive/MyDrive/Anomaly_Detection/Files/model/KMeans_resampling.joblib')"
      ],
      "metadata": {
        "colab": {
          "base_uri": "https://localhost:8080/"
        },
        "id": "5MA_Rhm7K3F4",
        "outputId": "6a8f5a36-b76a-4fbf-8346-515ae1c5685e"
      },
      "execution_count": 24,
      "outputs": [
        {
          "output_type": "execute_result",
          "data": {
            "text/plain": [
              "['/content/drive/MyDrive/Anomaly_Detection/Files/model/KMeans_resampling.joblib']"
            ]
          },
          "metadata": {},
          "execution_count": 24
        }
      ]
    },
    {
      "cell_type": "code",
      "source": [
        "start_time = time.time()\n",
        "y_pred = kmeans.predict(X_test)\n",
        "end_time = time.time()\n",
        "elapsed_time_predict = end_time - start_time\n",
        "cf_matrix = confusion_matrix(y_test, y_pred)\n",
        "cf_matrix"
      ],
      "metadata": {
        "colab": {
          "base_uri": "https://localhost:8080/"
        },
        "id": "Xz7Q52uhMlUy",
        "outputId": "f1317ce4-2f8e-4b47-f96a-f6ff16a579ca"
      },
      "execution_count": 25,
      "outputs": [
        {
          "output_type": "execute_result",
          "data": {
            "text/plain": [
              "array([[ 187451, 5862146],\n",
              "       [     17,      13]])"
            ]
          },
          "metadata": {},
          "execution_count": 25
        }
      ]
    },
    {
      "cell_type": "code",
      "source": [
        "time_to_train.append (elapsed_time_train)\n",
        "time_to_predict.append (elapsed_time_predict)"
      ],
      "metadata": {
        "id": "nsXPYK5J0UHE"
      },
      "execution_count": 26,
      "outputs": []
    },
    {
      "cell_type": "code",
      "source": [
        "acc.append(accuracy_score(y_test, y_pred))\n",
        "balanced_acc.append(balanced_accuracy_score(y_test, y_pred))\n",
        "precision.append(precision_score(y_test, y_pred, average='macro'))\n",
        "recall.append(recall_score(y_test, y_pred, average='macro'))\n",
        "f1.append(f1_score(y_test, y_pred, average='macro'))"
      ],
      "metadata": {
        "id": "Q41L-7s7Ml6L"
      },
      "execution_count": 27,
      "outputs": []
    },
    {
      "cell_type": "code",
      "source": [
        "target_names = ['Non-malicious','Malicious']\n",
        "ax = sns.heatmap(cf_matrix, annot=True, cmap='Blues')\n",
        "\n",
        "ax.set_title('Confusion matrix of KMeans with resampling\\n\\n');\n",
        "ax.set_xlabel('\\nPredicted Values')\n",
        "ax.set_ylabel('Actual Values ');\n",
        "\n",
        "## Ticket labels - List must be in alphabetical order\n",
        "ax.xaxis.set_ticklabels(target_names)\n",
        "ax.yaxis.set_ticklabels(target_names)\n",
        "\n",
        "## Display the visualization of the Confusion Matrix.\n",
        "plt.show()"
      ],
      "metadata": {
        "colab": {
          "base_uri": "https://localhost:8080/",
          "height": 530
        },
        "id": "CZ0vLBqRqJxR",
        "outputId": "4bbcc639-a64e-4213-e53d-256abf61a759"
      },
      "execution_count": 28,
      "outputs": [
        {
          "output_type": "display_data",
          "data": {
            "text/plain": [
              "<Figure size 640x480 with 2 Axes>"
            ],
            "image/png": "[encoded data removed]"
          },
          "metadata": {}
        }
      ]
    },
    {
      "cell_type": "markdown",
      "source": [
        "#Result"
      ],
      "metadata": {
        "id": "9kLeEHlG7JIN"
      }
    },
    {
      "cell_type": "code",
      "source": [
        "acc"
      ],
      "metadata": {
        "id": "nKs75i3T6NtF",
        "colab": {
          "base_uri": "https://localhost:8080/"
        },
        "outputId": "9e32d040-a915-4e82-c86a-80fdc856e399"
      },
      "execution_count": 29,
      "outputs": [
        {
          "output_type": "execute_result",
          "data": {
            "text/plain": [
              "[0.46848723070033904,\n",
              " 0.8647458760680617,\n",
              " 0.7473943434859703,\n",
              " 0.030987695605034823]"
            ]
          },
          "metadata": {},
          "execution_count": 29
        }
      ]
    },
    {
      "cell_type": "code",
      "source": [
        "balanced_acc"
      ],
      "metadata": {
        "id": "omE6z_iK6Pdl",
        "colab": {
          "base_uri": "https://localhost:8080/"
        },
        "outputId": "e9dba87a-a9d6-49f3-a841-303c0d4e5b32"
      },
      "execution_count": 30,
      "outputs": [
        {
          "output_type": "execute_result",
          "data": {
            "text/plain": [
              "[0.4842435372141318,\n",
              " 0.7823733465220906,\n",
              " 0.6903641212243834,\n",
              " 0.23215951685156327]"
            ]
          },
          "metadata": {},
          "execution_count": 30
        }
      ]
    },
    {
      "cell_type": "code",
      "source": [
        "precision"
      ],
      "metadata": {
        "id": "K_ta6LHA6QfO",
        "colab": {
          "base_uri": "https://localhost:8080/"
        },
        "outputId": "c2c96803-f7d2-4a50-ca9d-ca664addab3b"
      },
      "execution_count": 31,
      "outputs": [
        {
          "output_type": "execute_result",
          "data": {
            "text/plain": [
              "[0.4999996862109603,\n",
              " 0.5000119720856544,\n",
              " 0.5000050001291034,\n",
              " 0.4999557677349566]"
            ]
          },
          "metadata": {},
          "execution_count": 31
        }
      ]
    },
    {
      "cell_type": "code",
      "source": [
        "recall"
      ],
      "metadata": {
        "id": "0HwTO0Si6ZYU",
        "colab": {
          "base_uri": "https://localhost:8080/"
        },
        "outputId": "e8be238a-06a6-455e-bb7d-c340a1031cc7"
      },
      "execution_count": 32,
      "outputs": [
        {
          "output_type": "execute_result",
          "data": {
            "text/plain": [
              "[0.4842435372141318,\n",
              " 0.7823733465220906,\n",
              " 0.6903641212243834,\n",
              " 0.23215951685156327]"
            ]
          },
          "metadata": {},
          "execution_count": 32
        }
      ]
    },
    {
      "cell_type": "code",
      "source": [
        "f1"
      ],
      "metadata": {
        "id": "4UfNhFO16bA-",
        "colab": {
          "base_uri": "https://localhost:8080/"
        },
        "outputId": "2c6c6afe-5e57-4e83-95da-6d7e6af3b8f1"
      },
      "execution_count": 33,
      "outputs": [
        {
          "output_type": "execute_result",
          "data": {
            "text/plain": [
              "[0.3190311593100342,\n",
              " 0.46375942776555834,\n",
              " 0.427731506263604,\n",
              " 0.03005657810615028]"
            ]
          },
          "metadata": {},
          "execution_count": 33
        }
      ]
    },
    {
      "cell_type": "code",
      "source": [
        "time_to_train"
      ],
      "metadata": {
        "id": "LY2PW1Bi6cZU",
        "colab": {
          "base_uri": "https://localhost:8080/"
        },
        "outputId": "15a242f4-94ab-43d7-cacc-39f5d8a6095f"
      },
      "execution_count": 34,
      "outputs": [
        {
          "output_type": "execute_result",
          "data": {
            "text/plain": [
              "[621.1590671539307, 29.28284788131714, 7722.717522144318, 7.888464450836182]"
            ]
          },
          "metadata": {},
          "execution_count": 34
        }
      ]
    },
    {
      "cell_type": "code",
      "source": [
        "time_to_predict"
      ],
      "metadata": {
        "id": "0ZhEeKat6diP",
        "colab": {
          "base_uri": "https://localhost:8080/"
        },
        "outputId": "807c9b47-9cd7-4f21-87ce-0af11454bb50"
      },
      "execution_count": 35,
      "outputs": [
        {
          "output_type": "execute_result",
          "data": {
            "text/plain": [
              "[1.0833103656768799,\n",
              " 0.10944128036499023,\n",
              " 6.7545390129089355,\n",
              " 0.19811439514160156]"
            ]
          },
          "metadata": {},
          "execution_count": 35
        }
      ]
    }
  ]
}
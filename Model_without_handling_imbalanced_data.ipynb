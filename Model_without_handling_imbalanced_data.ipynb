{
  "nbformat": 4,
  "nbformat_minor": 0,
  "metadata": {
    "colab": {
      "provenance": []
    },
    "kernelspec": {
      "name": "python3",
      "display_name": "Python 3"
    },
    "language_info": {
      "name": "python"
    }
  },
  "cells": [
    {
      "cell_type": "code",
      "source": [
        "from google.colab import drive\n",
        "drive.mount('/content/drive')"
      ],
      "metadata": {
        "colab": {
          "base_uri": "https://localhost:8080/"
        },
        "id": "7LII4BJDrrSk",
        "outputId": "d625c713-2b16-4f95-81a4-ebf2890eaf26"
      },
      "execution_count": null,
      "outputs": [
        {
          "output_type": "stream",
          "name": "stdout",
          "text": [
            "Drive already mounted at /content/drive; to attempt to forcibly remount, call drive.mount(\"/content/drive\", force_remount=True).\n"
          ]
        }
      ]
    },
    {
      "cell_type": "markdown",
      "source": [
        "# Imports"
      ],
      "metadata": {
        "id": "dO9EdMObzMS-"
      }
    },
    {
      "cell_type": "code",
      "execution_count": null,
      "metadata": {
        "id": "Ae2V4aH0X7UY"
      },
      "outputs": [],
      "source": [
        "import numpy as np\n",
        "import pandas as pd\n",
        "import matplotlib.pyplot as plt\n",
        "import joblib\n",
        "from sklearn.metrics import confusion_matrix, accuracy_score, balanced_accuracy_score, precision_score, recall_score, f1_score\n",
        "import seaborn as sns\n",
        "from sklearn.tree import DecisionTreeClassifier\n",
        "from sklearn.linear_model import SGDClassifier\n",
        "from sklearn.neural_network import MLPClassifier\n",
        "from sklearn.linear_model import LogisticRegression\n",
        "import time\n",
        "from imblearn.under_sampling import NearMiss\n",
        "from imblearn.over_sampling import SMOTE\n",
        "from collections import Counter"
      ]
    },
    {
      "cell_type": "markdown",
      "source": [
        "# Exploratory Data Analysis (EDA)"
      ],
      "metadata": {
        "id": "Ug0ltCQeEcB3"
      }
    },
    {
      "cell_type": "code",
      "source": [
        "X_train = pd.read_csv('/content/drive/MyDrive/Anomaly_Detection/Files/X_train.csv')\n",
        "y_train = pd.read_csv('/content/drive/MyDrive/Anomaly_Detection/Files/y_train.csv')\n",
        "X_test = pd.read_csv('/content/drive/MyDrive/Anomaly_Detection/Files/X_test.csv')\n",
        "y_test = pd.read_csv('/content/drive/MyDrive/Anomaly_Detection/Files/y_test.csv')"
      ],
      "metadata": {
        "id": "dKbqeW_0qi5b"
      },
      "execution_count": null,
      "outputs": []
    },
    {
      "cell_type": "code",
      "source": [
        "y_train = y_train.values.reshape(-1, )\n",
        "y_test = y_test.values.reshape(-1, )"
      ],
      "metadata": {
        "id": "cmbEN6_kHj_X"
      },
      "execution_count": null,
      "outputs": []
    },
    {
      "cell_type": "code",
      "source": [
        "acc = []\n",
        "balanced_acc = []\n",
        "precision = []\n",
        "recall = []\n",
        "f1 = []\n",
        "time_to_train = []\n",
        "time_to_predict = []"
      ],
      "metadata": {
        "id": "HigCSxItE2dk"
      },
      "execution_count": 60,
      "outputs": []
    },
    {
      "cell_type": "markdown",
      "source": [
        "#Method"
      ],
      "metadata": {
        "id": "0J38-3ca7hUL"
      }
    },
    {
      "cell_type": "markdown",
      "source": [
        "## Logistic Regression"
      ],
      "metadata": {
        "id": "WQZgnf28ldS3"
      }
    },
    {
      "cell_type": "code",
      "source": [
        "start_time = time.time()\n",
        "logisticregression = LogisticRegression(random_state=0)\n",
        "logisticregression.fit(X_train, y_train)\n",
        "end_time = time.time()\n",
        "elapsed_time_train = end_time - start_time\n",
        "joblib.dump(logisticregression, '/content/drive/MyDrive/Anomaly_Detection/Files/model/LogisticRegression_original.joblib')"
      ],
      "metadata": {
        "colab": {
          "base_uri": "https://localhost:8080/"
        },
        "outputId": "2203c2e5-57e7-46b6-a6d1-f03967a5817a",
        "id": "eCJWgIt1ldS7"
      },
      "execution_count": 61,
      "outputs": [
        {
          "output_type": "execute_result",
          "data": {
            "text/plain": [
              "['/content/drive/MyDrive/Anomaly_Detection/Files/model/LogisticRegression_original.joblib']"
            ]
          },
          "metadata": {},
          "execution_count": 61
        }
      ]
    },
    {
      "cell_type": "code",
      "source": [
        "start_time = time.time()\n",
        "y_pred = logisticregression.predict(X_test)\n",
        "end_time = time.time()\n",
        "elapsed_time_predict = end_time - start_time\n",
        "cf_matrix = confusion_matrix(y_test, y_pred)\n",
        "cf_matrix"
      ],
      "metadata": {
        "colab": {
          "base_uri": "https://localhost:8080/"
        },
        "id": "1rrGIm9ImFMe",
        "outputId": "5e262c8d-1d9d-4209-ee59-d84eddff9395"
      },
      "execution_count": 62,
      "outputs": [
        {
          "output_type": "execute_result",
          "data": {
            "text/plain": [
              "array([[6049597,       0],\n",
              "       [     30,       0]])"
            ]
          },
          "metadata": {},
          "execution_count": 62
        }
      ]
    },
    {
      "cell_type": "code",
      "source": [
        "time_to_train.append (elapsed_time_train)\n",
        "time_to_predict.append (elapsed_time_predict)"
      ],
      "metadata": {
        "id": "B7_byL3MnrjT"
      },
      "execution_count": 63,
      "outputs": []
    },
    {
      "cell_type": "code",
      "source": [
        "acc.append(accuracy_score(y_test, y_pred))\n",
        "balanced_acc.append(balanced_accuracy_score(y_test, y_pred))\n",
        "precision.append(precision_score(y_test, y_pred, average='macro'))\n",
        "recall.append(recall_score(y_test, y_pred, average='macro'))\n",
        "f1.append(f1_score(y_test, y_pred, average='macro'))"
      ],
      "metadata": {
        "id": "8RL58afjnl4l",
        "colab": {
          "base_uri": "https://localhost:8080/"
        },
        "outputId": "0285e970-0ed5-4c91-c5af-01ce59d966f6"
      },
      "execution_count": 64,
      "outputs": [
        {
          "output_type": "stream",
          "name": "stderr",
          "text": [
            "/usr/local/lib/python3.10/dist-packages/sklearn/metrics/_classification.py:1344: UndefinedMetricWarning: Precision is ill-defined and being set to 0.0 in labels with no predicted samples. Use `zero_division` parameter to control this behavior.\n",
            "  _warn_prf(average, modifier, msg_start, len(result))\n"
          ]
        }
      ]
    },
    {
      "cell_type": "code",
      "source": [
        "target_names = ['Non-malicious','Malicious']\n",
        "ax = sns.heatmap(cf_matrix, annot=True, cmap='Blues')\n",
        "\n",
        "ax.set_title('Confusion matrix of LR\\n\\n');\n",
        "ax.set_xlabel('\\nPredicted Values')\n",
        "ax.set_ylabel('Actual Values ');\n",
        "\n",
        "## Ticket labels - List must be in alphabetical order\n",
        "ax.xaxis.set_ticklabels(target_names)\n",
        "ax.yaxis.set_ticklabels(target_names)\n",
        "\n",
        "## Display the visualization of the Confusion Matrix.\n",
        "plt.show()"
      ],
      "metadata": {
        "colab": {
          "base_uri": "https://localhost:8080/",
          "height": 530
        },
        "id": "JmCTCfsJmJhw",
        "outputId": "bd308f9f-dfa7-464c-aa12-1f41ff6835c7"
      },
      "execution_count": 65,
      "outputs": [
        {
          "output_type": "display_data",
          "data": {
            "text/plain": [
              "<Figure size 640x480 with 2 Axes>"
            ],
            "image/png": "[encoded data removed]"
          },
          "metadata": {}
        }
      ]
    },
    {
      "cell_type": "markdown",
      "source": [
        "## Decision Tree"
      ],
      "metadata": {
        "id": "2MnxfAAJo9GD"
      }
    },
    {
      "cell_type": "code",
      "source": [
        "start_time = time.time()\n",
        "decisiontree = DecisionTreeClassifier(random_state=0)\n",
        "decisiontree.fit(X_train, y_train)\n",
        "end_time = time.time()\n",
        "elapsed_time_train = end_time - start_time\n",
        "joblib.dump(decisiontree, '/content/drive/MyDrive/Anomaly_Detection/Files/model/DecisionTreeClassifier_original.joblib')"
      ],
      "metadata": {
        "colab": {
          "base_uri": "https://localhost:8080/"
        },
        "id": "tnMPlhBI1WFD",
        "outputId": "037e8024-c545-4d5b-9fb5-f57462b880d1"
      },
      "execution_count": 66,
      "outputs": [
        {
          "output_type": "execute_result",
          "data": {
            "text/plain": [
              "['/content/drive/MyDrive/Anomaly_Detection/Files/model/DecisionTreeClassifier_original.joblib']"
            ]
          },
          "metadata": {},
          "execution_count": 66
        }
      ]
    },
    {
      "cell_type": "code",
      "source": [
        "start_time = time.time()\n",
        "y_pred = decisiontree.predict(X_test)\n",
        "end_time = time.time()\n",
        "elapsed_time_predict = end_time - start_time\n",
        "cf_matrix = confusion_matrix(y_test, y_pred)\n",
        "cf_matrix"
      ],
      "metadata": {
        "id": "1RmuLsnREuVR",
        "colab": {
          "base_uri": "https://localhost:8080/"
        },
        "outputId": "4b25197c-e59f-458e-e005-b763b0d2f14e"
      },
      "execution_count": 67,
      "outputs": [
        {
          "output_type": "execute_result",
          "data": {
            "text/plain": [
              "array([[6049576,      21],\n",
              "       [     30,       0]])"
            ]
          },
          "metadata": {},
          "execution_count": 67
        }
      ]
    },
    {
      "cell_type": "code",
      "source": [
        "time_to_train.append (elapsed_time_train)\n",
        "time_to_predict.append (elapsed_time_predict)"
      ],
      "metadata": {
        "id": "Il_5DRQBxPvk"
      },
      "execution_count": 68,
      "outputs": []
    },
    {
      "cell_type": "code",
      "source": [
        "acc.append(accuracy_score(y_test, y_pred))\n",
        "balanced_acc.append(balanced_accuracy_score(y_test, y_pred))\n",
        "precision.append(precision_score(y_test, y_pred, average='macro'))\n",
        "recall.append(recall_score(y_test, y_pred, average='macro'))\n",
        "f1.append(f1_score(y_test, y_pred, average='macro'))"
      ],
      "metadata": {
        "id": "eWVeZ6EELWc3"
      },
      "execution_count": 69,
      "outputs": []
    },
    {
      "cell_type": "code",
      "source": [
        "target_names = ['Non-malicious','Malicious']\n",
        "ax = sns.heatmap(cf_matrix, annot=True, cmap='Blues')\n",
        "\n",
        "ax.set_title('Confusion matrix of DT\\n\\n');\n",
        "ax.set_xlabel('\\nPredicted Values')\n",
        "ax.set_ylabel('Actual Values ');\n",
        "\n",
        "## Ticket labels - List must be in alphabetical order\n",
        "ax.xaxis.set_ticklabels(target_names)\n",
        "ax.yaxis.set_ticklabels(target_names)\n",
        "\n",
        "## Display the visualization of the Confusion Matrix.\n",
        "plt.show()"
      ],
      "metadata": {
        "colab": {
          "base_uri": "https://localhost:8080/",
          "height": 530
        },
        "id": "ttSLicyyFpLr",
        "outputId": "30157228-c5ea-4eaa-8093-2199f3a57878"
      },
      "execution_count": 70,
      "outputs": [
        {
          "output_type": "display_data",
          "data": {
            "text/plain": [
              "<Figure size 640x480 with 2 Axes>"
            ],
            "image/png": "[encoded data removed]"
          },
          "metadata": {}
        }
      ]
    },
    {
      "cell_type": "markdown",
      "source": [
        "## SGD Classifier"
      ],
      "metadata": {
        "id": "bbXsVETupEnM"
      }
    },
    {
      "cell_type": "code",
      "source": [
        "start_time = time.time()\n",
        "sgd = SGDClassifier()\n",
        "sgd.fit(X_train, y_train)\n",
        "end_time = time.time()\n",
        "elapsed_time_train = end_time - start_time\n",
        "joblib.dump(sgd, '/content/drive/MyDrive/Anomaly_Detection/Files/model/SGDClassifier_original.joblib')"
      ],
      "metadata": {
        "colab": {
          "base_uri": "https://localhost:8080/"
        },
        "id": "fXMRdCnUKIQT",
        "outputId": "2d0d9b27-8ae9-49d3-d338-9c683231746e"
      },
      "execution_count": 71,
      "outputs": [
        {
          "output_type": "execute_result",
          "data": {
            "text/plain": [
              "['/content/drive/MyDrive/Anomaly_Detection/Files/model/SGDClassifier_original.joblib']"
            ]
          },
          "metadata": {},
          "execution_count": 71
        }
      ]
    },
    {
      "cell_type": "code",
      "source": [
        "start_time = time.time()\n",
        "y_pred = sgd.predict(X_test)\n",
        "end_time = time.time()\n",
        "elapsed_time_predict = end_time - start_time\n",
        "cf_matrix = confusion_matrix(y_test, y_pred)\n",
        "cf_matrix"
      ],
      "metadata": {
        "colab": {
          "base_uri": "https://localhost:8080/"
        },
        "id": "RVtyH5PVmRK7",
        "outputId": "21e79291-272a-46ec-ff8f-041de44fdbe9"
      },
      "execution_count": 72,
      "outputs": [
        {
          "output_type": "execute_result",
          "data": {
            "text/plain": [
              "array([[6049597,       0],\n",
              "       [     30,       0]])"
            ]
          },
          "metadata": {},
          "execution_count": 72
        }
      ]
    },
    {
      "cell_type": "code",
      "source": [
        "time_to_train.append (elapsed_time_train)\n",
        "time_to_predict.append (elapsed_time_predict)"
      ],
      "metadata": {
        "id": "tYGPjRklzcEt"
      },
      "execution_count": 73,
      "outputs": []
    },
    {
      "cell_type": "code",
      "source": [
        "acc.append(accuracy_score(y_test, y_pred))\n",
        "balanced_acc.append(balanced_accuracy_score(y_test, y_pred))\n",
        "precision.append(precision_score(y_test, y_pred, average='macro'))\n",
        "recall.append(recall_score(y_test, y_pred, average='macro'))\n",
        "f1.append(f1_score(y_test, y_pred, average='macro'))"
      ],
      "metadata": {
        "id": "susvrD0gMd6s",
        "colab": {
          "base_uri": "https://localhost:8080/"
        },
        "outputId": "3b90ba7c-3518-4b71-d95e-24d5bef147e1"
      },
      "execution_count": 74,
      "outputs": [
        {
          "output_type": "stream",
          "name": "stderr",
          "text": [
            "/usr/local/lib/python3.10/dist-packages/sklearn/metrics/_classification.py:1344: UndefinedMetricWarning: Precision is ill-defined and being set to 0.0 in labels with no predicted samples. Use `zero_division` parameter to control this behavior.\n",
            "  _warn_prf(average, modifier, msg_start, len(result))\n"
          ]
        }
      ]
    },
    {
      "cell_type": "code",
      "source": [
        "target_names = ['Non-malicious','Malicious']\n",
        "ax = sns.heatmap(cf_matrix, annot=True, cmap='Blues')\n",
        "\n",
        "ax.set_title('Confusion matrix of SGD\\n\\n');\n",
        "ax.set_xlabel('\\nPredicted Values')\n",
        "ax.set_ylabel('Actual Values ');\n",
        "\n",
        "## Ticket labels - List must be in alphabetical order\n",
        "ax.xaxis.set_ticklabels(target_names)\n",
        "ax.yaxis.set_ticklabels(target_names)\n",
        "\n",
        "## Display the visualization of the Confusion Matrix.\n",
        "plt.show()"
      ],
      "metadata": {
        "colab": {
          "base_uri": "https://localhost:8080/",
          "height": 530
        },
        "id": "5XSHXDocp9GC",
        "outputId": "26ee97b4-98c4-4924-8c2e-434239f3ea15"
      },
      "execution_count": 75,
      "outputs": [
        {
          "output_type": "display_data",
          "data": {
            "text/plain": [
              "<Figure size 640x480 with 2 Axes>"
            ],
            "image/png": "[encoded data removed]"
          },
          "metadata": {}
        }
      ]
    },
    {
      "cell_type": "markdown",
      "source": [
        "## MLP Classifier"
      ],
      "metadata": {
        "id": "K1RzfdjW_Xaa"
      }
    },
    {
      "cell_type": "code",
      "source": [
        "start_time = time.time()\n",
        "mlp = MLPClassifier(random_state=1)\n",
        "mlp.fit(X_train, y_train)\n",
        "end_time = time.time()\n",
        "elapsed_time_train = end_time - start_time\n",
        "joblib.dump(mlp, '/content/drive/MyDrive/Anomaly_Detection/Files/model/MLPClassifier_original.joblib')"
      ],
      "metadata": {
        "colab": {
          "base_uri": "https://localhost:8080/"
        },
        "id": "xLNMd2lH_a98",
        "outputId": "d837061f-7be1-4e47-ee01-9fdacbe42922"
      },
      "execution_count": 76,
      "outputs": [
        {
          "output_type": "execute_result",
          "data": {
            "text/plain": [
              "['/content/drive/MyDrive/Anomaly_Detection/Files/model/MLPClassifier_original.joblib']"
            ]
          },
          "metadata": {},
          "execution_count": 76
        }
      ]
    },
    {
      "cell_type": "code",
      "source": [
        "start_time = time.time()\n",
        "y_pred = mlp.predict(X_test)\n",
        "end_time = time.time()\n",
        "elapsed_time_predict = end_time - start_time\n",
        "cf_matrix = confusion_matrix(y_test, y_pred)\n",
        "cf_matrix"
      ],
      "metadata": {
        "colab": {
          "base_uri": "https://localhost:8080/"
        },
        "id": "bEbfy-gO_bG2",
        "outputId": "022dc73a-5c41-4bc6-e2c4-865b0454f5d5"
      },
      "execution_count": 77,
      "outputs": [
        {
          "output_type": "execute_result",
          "data": {
            "text/plain": [
              "array([[6049597,       0],\n",
              "       [     30,       0]])"
            ]
          },
          "metadata": {},
          "execution_count": 77
        }
      ]
    },
    {
      "cell_type": "code",
      "source": [
        "time_to_train.append (elapsed_time_train)\n",
        "time_to_predict.append (elapsed_time_predict)"
      ],
      "metadata": {
        "id": "2tiTcdfL0QH6"
      },
      "execution_count": 78,
      "outputs": []
    },
    {
      "cell_type": "code",
      "source": [
        "acc.append(accuracy_score(y_test, y_pred))\n",
        "balanced_acc.append(balanced_accuracy_score(y_test, y_pred))\n",
        "precision.append(precision_score(y_test, y_pred, average='macro'))\n",
        "recall.append(recall_score(y_test, y_pred, average='macro'))\n",
        "f1.append(f1_score(y_test, y_pred, average='macro'))"
      ],
      "metadata": {
        "id": "1-tRZDPXMh4I",
        "colab": {
          "base_uri": "https://localhost:8080/"
        },
        "outputId": "d7532f07-c9fe-4495-e86e-83637ce5506f"
      },
      "execution_count": 79,
      "outputs": [
        {
          "output_type": "stream",
          "name": "stderr",
          "text": [
            "/usr/local/lib/python3.10/dist-packages/sklearn/metrics/_classification.py:1344: UndefinedMetricWarning: Precision is ill-defined and being set to 0.0 in labels with no predicted samples. Use `zero_division` parameter to control this behavior.\n",
            "  _warn_prf(average, modifier, msg_start, len(result))\n"
          ]
        }
      ]
    },
    {
      "cell_type": "code",
      "source": [
        "target_names = ['Non-malicious','Malicious']\n",
        "ax = sns.heatmap(cf_matrix, annot=True, cmap='Blues')\n",
        "\n",
        "ax.set_title('Confusion matrix of MLP\\n\\n');\n",
        "ax.set_xlabel('\\nPredicted Values')\n",
        "ax.set_ylabel('Actual Values ');\n",
        "\n",
        "## Ticket labels - List must be in alphabetical order\n",
        "ax.xaxis.set_ticklabels(target_names)\n",
        "ax.yaxis.set_ticklabels(target_names)\n",
        "\n",
        "## Display the visualization of the Confusion Matrix.\n",
        "plt.show()"
      ],
      "metadata": {
        "colab": {
          "base_uri": "https://localhost:8080/",
          "height": 530
        },
        "id": "Hua2mPw0_bRa",
        "outputId": "7277d2b6-95ea-4b16-d1ac-c0da02e5c676"
      },
      "execution_count": 80,
      "outputs": [
        {
          "output_type": "display_data",
          "data": {
            "text/plain": [
              "<Figure size 640x480 with 2 Axes>"
            ],
            "image/png": "[encoded data removed]"
          },
          "metadata": {}
        }
      ]
    }
  ]
}